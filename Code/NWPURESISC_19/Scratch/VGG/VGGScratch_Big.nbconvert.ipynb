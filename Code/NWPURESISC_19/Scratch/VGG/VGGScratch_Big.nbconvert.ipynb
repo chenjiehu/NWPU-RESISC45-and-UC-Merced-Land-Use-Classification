{
 "cells": [
  {
   "cell_type": "code",
   "execution_count": 1,
   "metadata": {
    "colab": {
     "base_uri": "https://localhost:8080/",
     "height": 35
    },
    "colab_type": "code",
    "collapsed": false,
    "id": "welgb6o3ObNq",
    "outputId": "319e68fc-aa46-4388-df91-f12a2f111d23"
   },
   "outputs": [
    {
     "name": "stderr",
     "output_type": "stream",
     "text": [
      "Using TensorFlow backend.\n"
     ]
    }
   ],
   "source": [
    "import keras\n",
    "import os\n",
    "import matplotlib\n",
    "import matplotlib.pyplot as plt\n",
    "\n",
    "from keras.models import Sequential\n",
    "from keras.layers import Dense, Activation, Dropout, Flatten, Conv2D, MaxPooling2D, MaxPool2D\n",
    "from keras.layers.normalization import BatchNormalization\n",
    "from keras.preprocessing.image import ImageDataGenerator\n",
    "from pathlib import Path \n",
    "from keras.optimizers import Adam\n",
    "from keras import backend\n",
    "from keras import optimizers\n",
    "from sklearn.metrics import accuracy_score, classification_report\n",
    "import numpy as np\n",
    "np.random.seed(1001)"
   ]
  },
  {
   "cell_type": "code",
   "execution_count": 2,
   "metadata": {
    "colab": {},
    "colab_type": "code",
    "collapsed": false,
    "id": "AEDFKuFUOhzQ"
   },
   "outputs": [],
   "source": [
    "class_names = os.listdir('/panfs/roc/groups/14/kumarbio/rai00016/Capstone/Data/NWPURESISC_19/Train/')\n",
    "target_dirs = {target: '/panfs/roc/groups/14/kumarbio/rai00016/Capstone/Data/NWPURESISC_19/' + target for target in ['Train', 'Validation', 'Test']}"
   ]
  },
  {
   "cell_type": "code",
   "execution_count": 3,
   "metadata": {
    "colab": {
     "base_uri": "https://localhost:8080/",
     "height": 72
    },
    "colab_type": "code",
    "collapsed": false,
    "id": "CYA41l76Okwm",
    "outputId": "451b5466-9f1d-49b2-e0c5-3fcf36d604c7"
   },
   "outputs": [
    {
     "name": "stdout",
     "output_type": "stream",
     "text": [
      "Found 10640 images belonging to 19 classes.\n",
      "Found 1330 images belonging to 19 classes.\n",
      "Found 1330 images belonging to 19 classes.\n"
     ]
    }
   ],
   "source": [
    "batch_size = 64\n",
    "train_data_generator =  ImageDataGenerator(rescale=1/255.0,\n",
    "                                          rotation_range=20,\n",
    "                                          width_shift_range=0.2,\n",
    "                                          height_shift_range=0.2,\n",
    "                                          horizontal_flip=True)\n",
    "train_image_generator = train_data_generator.flow_from_directory(target_dirs['Train'],\n",
    "                                                       target_size=(224, 224),\n",
    "                                                       batch_size=batch_size,\n",
    "                                                       shuffle=True)\n",
    "test_data_generator =  ImageDataGenerator(rescale=1/255.0)\n",
    "test_image_generator = test_data_generator.flow_from_directory(target_dirs['Test'],\n",
    "                                                       target_size=(224, 224),\n",
    "                                                       batch_size=batch_size,\n",
    "                                                       shuffle=True)\n",
    "validation_data_generator =  ImageDataGenerator(rescale=1/255.0)\n",
    "validation_image_generator = validation_data_generator.flow_from_directory(target_dirs['Validation'],\n",
    "                                                       target_size=(224, 224),\n",
    "                                                       batch_size=batch_size,\n",
    "                                                       shuffle=True) \n",
    "def getDataUsingDataGenerators(dataset):\n",
    "    print(dataset)\n",
    "    if dataset == 'Train':\n",
    "        image_generator = train_image_generator\n",
    "    elif dataset == 'Validation':\n",
    "        image_generator = validation_image_generator\n",
    "    else:\n",
    "        image_generator = test_image_generator\n",
    "    image_count = 0\n",
    "    X_batches, Y_batches = [], []\n",
    "    for X, Y in image_generator:\n",
    "        X_batches.append(X)\n",
    "        Y_batches.append(Y)\n",
    "        image_count += X.shape[0]\n",
    "        if image_count >= image_generator.n:\n",
    "            break\n",
    "    X = np.concatenate(X_batches)\n",
    "    Y = np.concatenate(Y_batches)\n",
    "    return X, Y "
   ]
  },
  {
   "cell_type": "code",
   "execution_count": 4,
   "metadata": {
    "colab": {
     "base_uri": "https://localhost:8080/",
     "height": 72
    },
    "colab_type": "code",
    "collapsed": false,
    "id": "okK12uvoOsDM",
    "outputId": "5a9f6fed-f3f1-44d3-d0aa-7d35adf29e95"
   },
   "outputs": [
    {
     "name": "stdout",
     "output_type": "stream",
     "text": [
      "Validation\n",
      "Test\n",
      "Train\n"
     ]
    }
   ],
   "source": [
    "num_classes = len(class_names)\n",
    "X, Y = dict(), dict()\n",
    "for dataset in [ 'Validation', 'Test','Train']:\n",
    "    # Extract bottleneck features from pretrained model, predicting from \"dataset\" directory\n",
    "    X[dataset], Y[dataset] = getDataUsingDataGenerators(dataset)"
   ]
  },
  {
   "cell_type": "code",
   "execution_count": 5,
   "metadata": {
    "colab": {
     "base_uri": "https://localhost:8080/",
     "height": 35
    },
    "colab_type": "code",
    "collapsed": false,
    "id": "cFuaPYwvkGrT",
    "outputId": "ff53b7bf-501e-4d2d-87ee-064d1511bf0a"
   },
   "outputs": [
    {
     "data": {
      "text/plain": [
       "''"
      ]
     },
     "execution_count": 5,
     "metadata": {},
     "output_type": "execute_result"
    }
   ],
   "source": [
    "import tensorflow as tf\n",
    "tf.test.gpu_device_name()"
   ]
  },
  {
   "cell_type": "code",
   "execution_count": 6,
   "metadata": {
    "colab": {},
    "colab_type": "code",
    "collapsed": true,
    "id": "WGm03W4ZO6KS"
   },
   "outputs": [],
   "source": [
    "def build_model(input_shape, num_classes):\n",
    "    model = Sequential()\n",
    "    model.add(Conv2D(input_shape=(224,224,3),filters=64,kernel_size=(3,3),padding=\"same\", activation=\"relu\"))\n",
    "    model.add(Conv2D(filters=64,kernel_size=(3,3),padding=\"same\", activation=\"relu\"))\n",
    "    model.add(BatchNormalization())\n",
    "    model.add(MaxPool2D(pool_size=(2,2),strides=(2,2)))\n",
    "    model.add(Conv2D(filters=128,kernel_size=(3,3),padding=\"same\", activation=\"relu\"))\n",
    "    model.add(Conv2D(filters=128,kernel_size=(3,3),padding=\"same\", activation=\"relu\"))\n",
    "    model.add(BatchNormalization())\n",
    "    model.add(MaxPool2D(pool_size=(2,2),strides=(2,2)))\n",
    "\n",
    "    model.add(Conv2D(filters=256,kernel_size=(3,3),padding=\"same\", activation=\"relu\"))\n",
    "    model.add(Conv2D(filters=256,kernel_size=(3,3),padding=\"same\", activation=\"relu\"))\n",
    "    model.add(Conv2D(filters=256,kernel_size=(3,3),padding=\"same\", activation=\"relu\"))\n",
    "    model.add(BatchNormalization())\n",
    "    model.add(MaxPool2D(pool_size=(2,2),strides=(2,2)))\n",
    "\n",
    "    model.add(Conv2D(filters=512,kernel_size=(3,3),padding=\"same\", activation=\"relu\"))\n",
    "    model.add(Conv2D(filters=512,kernel_size=(3,3),padding=\"same\", activation=\"relu\"))\n",
    "    model.add(Conv2D(filters=512,kernel_size=(3,3),padding=\"same\", activation=\"relu\"))\n",
    "    model.add(BatchNormalization())\n",
    "    model.add(MaxPool2D(pool_size=(2,2),strides=(2,2)))\n",
    "\n",
    "    model.add(Conv2D(filters=512,kernel_size=(3,3),padding=\"same\", activation=\"relu\"))\n",
    "    model.add(Conv2D(filters=512,kernel_size=(3,3),padding=\"same\", activation=\"relu\"))\n",
    "    model.add(Conv2D(filters=512,kernel_size=(3,3),padding=\"same\", activation=\"relu\"))\n",
    "    model.add(BatchNormalization())\n",
    "    model.add(MaxPool2D(pool_size=(2,2),strides=(2,2)))\n",
    "\n",
    "    model.add(Flatten())\n",
    "    model.add(Dense(units=4096,activation=\"relu\"))\n",
    "    model.add(Dense(units=4096,activation=\"relu\"))\n",
    "    model.add(Dropout(0.5))\n",
    "    model.add(Dense(units=num_classes,activation=\"softmax\"))\n",
    "    return model"
   ]
  },
  {
   "cell_type": "code",
   "execution_count": 7,
   "metadata": {
    "colab": {
     "base_uri": "https://localhost:8080/",
     "height": 1000
    },
    "colab_type": "code",
    "collapsed": false,
    "id": "JfVjW6baPO9S",
    "outputId": "307d4851-d279-4966-cf3e-eb80b09f8c8c"
   },
   "outputs": [
    {
     "name": "stdout",
     "output_type": "stream",
     "text": [
      "Model: \"sequential_1\"\n",
      "_________________________________________________________________\n",
      "Layer (type)                 Output Shape              Param #   \n",
      "=================================================================\n",
      "conv2d_1 (Conv2D)            (None, 224, 224, 64)      1792      \n",
      "_________________________________________________________________\n",
      "conv2d_2 (Conv2D)            (None, 224, 224, 64)      36928     \n",
      "_________________________________________________________________\n",
      "batch_normalization_1 (Batch (None, 224, 224, 64)      256       \n",
      "_________________________________________________________________\n",
      "max_pooling2d_1 (MaxPooling2 (None, 112, 112, 64)      0         \n",
      "_________________________________________________________________\n",
      "conv2d_3 (Conv2D)            (None, 112, 112, 128)     73856     \n",
      "_________________________________________________________________\n",
      "conv2d_4 (Conv2D)            (None, 112, 112, 128)     147584    \n",
      "_________________________________________________________________\n",
      "batch_normalization_2 (Batch (None, 112, 112, 128)     512       \n",
      "_________________________________________________________________\n",
      "max_pooling2d_2 (MaxPooling2 (None, 56, 56, 128)       0         \n",
      "_________________________________________________________________\n",
      "conv2d_5 (Conv2D)            (None, 56, 56, 256)       295168    \n",
      "_________________________________________________________________\n",
      "conv2d_6 (Conv2D)            (None, 56, 56, 256)       590080    \n",
      "_________________________________________________________________\n",
      "conv2d_7 (Conv2D)            (None, 56, 56, 256)       590080    \n",
      "_________________________________________________________________\n",
      "batch_normalization_3 (Batch (None, 56, 56, 256)       1024      \n",
      "_________________________________________________________________\n",
      "max_pooling2d_3 (MaxPooling2 (None, 28, 28, 256)       0         \n",
      "_________________________________________________________________\n",
      "conv2d_8 (Conv2D)            (None, 28, 28, 512)       1180160   \n",
      "_________________________________________________________________\n",
      "conv2d_9 (Conv2D)            (None, 28, 28, 512)       2359808   \n",
      "_________________________________________________________________\n",
      "conv2d_10 (Conv2D)           (None, 28, 28, 512)       2359808   \n",
      "_________________________________________________________________\n",
      "batch_normalization_4 (Batch (None, 28, 28, 512)       2048      \n",
      "_________________________________________________________________\n",
      "max_pooling2d_4 (MaxPooling2 (None, 14, 14, 512)       0         \n",
      "_________________________________________________________________\n",
      "conv2d_11 (Conv2D)           (None, 14, 14, 512)       2359808   \n",
      "_________________________________________________________________\n",
      "conv2d_12 (Conv2D)           (None, 14, 14, 512)       2359808   \n",
      "_________________________________________________________________\n",
      "conv2d_13 (Conv2D)           (None, 14, 14, 512)       2359808   \n",
      "_________________________________________________________________\n",
      "batch_normalization_5 (Batch (None, 14, 14, 512)       2048      \n",
      "_________________________________________________________________\n",
      "max_pooling2d_5 (MaxPooling2 (None, 7, 7, 512)         0         \n",
      "_________________________________________________________________\n",
      "flatten_1 (Flatten)          (None, 25088)             0         \n",
      "_________________________________________________________________\n",
      "dense_1 (Dense)              (None, 4096)              102764544 \n",
      "_________________________________________________________________\n",
      "dense_2 (Dense)              (None, 4096)              16781312  \n",
      "_________________________________________________________________\n",
      "dropout_1 (Dropout)          (None, 4096)              0         \n",
      "_________________________________________________________________\n",
      "dense_3 (Dense)              (None, 19)                77843     \n",
      "=================================================================\n",
      "Total params: 134,344,275\n",
      "Trainable params: 134,341,331\n",
      "Non-trainable params: 2,944\n",
      "_________________________________________________________________\n"
     ]
    }
   ],
   "source": [
    "model = build_model(input_shape=X['Train'].shape[1:], num_classes=num_classes)\n",
    "adam = optimizers.Adam(lr=0.0001)\n",
    "model.compile(optimizer=adam, loss='categorical_crossentropy', metrics=['accuracy'])\n",
    "model.summary()\n"
   ]
  },
  {
   "cell_type": "code",
   "execution_count": 8,
   "metadata": {
    "colab": {
     "base_uri": "https://localhost:8080/",
     "height": 1000
    },
    "colab_type": "code",
    "collapsed": false,
    "id": "RPgU18LteAKY",
    "outputId": "32f5ec51-f5e1-4ec4-ec4e-faf1982103fb"
   },
   "outputs": [
    {
     "name": "stdout",
     "output_type": "stream",
     "text": [
      "Epoch 1/100\n",
      "31/31 [==============================] - 270s 9s/step - loss: 4.0808 - accuracy: 0.1704 - val_loss: 3.3133 - val_accuracy: 0.0456\n",
      "Epoch 2/100\n",
      "31/31 [==============================] - 260s 8s/step - loss: 2.3567 - accuracy: 0.3140 - val_loss: 4.3996 - val_accuracy: 0.0623\n",
      "Epoch 3/100\n",
      "31/31 [==============================] - 261s 8s/step - loss: 2.0072 - accuracy: 0.3700 - val_loss: 4.2906 - val_accuracy: 0.0495\n",
      "Epoch 4/100\n",
      "31/31 [==============================] - 252s 8s/step - loss: 1.9386 - accuracy: 0.4081 - val_loss: 4.0685 - val_accuracy: 0.0623\n",
      "Epoch 5/100\n",
      "31/31 [==============================] - 260s 8s/step - loss: 1.7110 - accuracy: 0.4718 - val_loss: 4.3881 - val_accuracy: 0.0586\n",
      "Epoch 6/100\n",
      "31/31 [==============================] - 259s 8s/step - loss: 1.5802 - accuracy: 0.5035 - val_loss: 4.3653 - val_accuracy: 0.0517\n",
      "Epoch 7/100\n",
      "31/31 [==============================] - 261s 8s/step - loss: 1.5119 - accuracy: 0.5338 - val_loss: 4.6074 - val_accuracy: 0.0491\n",
      "Epoch 8/100\n",
      "31/31 [==============================] - 259s 8s/step - loss: 1.5094 - accuracy: 0.5227 - val_loss: 5.4636 - val_accuracy: 0.0599\n",
      "Epoch 9/100\n",
      "31/31 [==============================] - 261s 8s/step - loss: 1.3910 - accuracy: 0.5575 - val_loss: 8.1604 - val_accuracy: 0.0411\n",
      "Epoch 10/100\n",
      "31/31 [==============================] - 259s 8s/step - loss: 1.3538 - accuracy: 0.5741 - val_loss: 6.3506 - val_accuracy: 0.0625\n",
      "Epoch 11/100\n",
      "31/31 [==============================] - 254s 8s/step - loss: 1.3672 - accuracy: 0.5739 - val_loss: 4.8768 - val_accuracy: 0.0517\n",
      "Epoch 12/100\n",
      "31/31 [==============================] - 260s 8s/step - loss: 1.2561 - accuracy: 0.5857 - val_loss: 6.4302 - val_accuracy: 0.0638\n",
      "Epoch 13/100\n",
      "31/31 [==============================] - 257s 8s/step - loss: 1.2471 - accuracy: 0.6136 - val_loss: 4.9038 - val_accuracy: 0.0889\n",
      "Epoch 14/100\n",
      "31/31 [==============================] - 262s 8s/step - loss: 1.2572 - accuracy: 0.6104 - val_loss: 4.1219 - val_accuracy: 0.1393\n",
      "Epoch 15/100\n",
      "31/31 [==============================] - 262s 8s/step - loss: 1.1820 - accuracy: 0.6290 - val_loss: 4.5331 - val_accuracy: 0.1341\n",
      "Epoch 16/100\n",
      "31/31 [==============================] - 261s 8s/step - loss: 1.1180 - accuracy: 0.6426 - val_loss: 4.8238 - val_accuracy: 0.1499\n",
      "Epoch 17/100\n",
      "31/31 [==============================] - 259s 8s/step - loss: 1.0724 - accuracy: 0.6633 - val_loss: 3.8068 - val_accuracy: 0.1354\n",
      "Epoch 18/100\n",
      "31/31 [==============================] - 263s 8s/step - loss: 1.0438 - accuracy: 0.6850 - val_loss: 3.9309 - val_accuracy: 0.1830\n",
      "Epoch 19/100\n",
      "31/31 [==============================] - 258s 8s/step - loss: 1.0086 - accuracy: 0.6761 - val_loss: 3.5555 - val_accuracy: 0.2656\n",
      "Epoch 20/100\n",
      "31/31 [==============================] - 263s 8s/step - loss: 1.0551 - accuracy: 0.6739 - val_loss: 3.4598 - val_accuracy: 0.2759\n",
      "Epoch 21/100\n",
      "31/31 [==============================] - 263s 8s/step - loss: 0.9676 - accuracy: 0.6885 - val_loss: 3.4033 - val_accuracy: 0.3382\n",
      "Epoch 22/100\n",
      "31/31 [==============================] - 263s 8s/step - loss: 0.9791 - accuracy: 0.6946 - val_loss: 1.7893 - val_accuracy: 0.4440\n",
      "Epoch 23/100\n",
      "31/31 [==============================] - 264s 9s/step - loss: 0.9113 - accuracy: 0.7152 - val_loss: 2.1773 - val_accuracy: 0.4973\n",
      "Epoch 24/100\n",
      "31/31 [==============================] - 256s 8s/step - loss: 0.9591 - accuracy: 0.6932 - val_loss: 1.3709 - val_accuracy: 0.5964\n",
      "Epoch 25/100\n",
      "31/31 [==============================] - 262s 8s/step - loss: 0.8671 - accuracy: 0.7248 - val_loss: 2.2846 - val_accuracy: 0.4350\n",
      "Epoch 26/100\n",
      "31/31 [==============================] - 262s 8s/step - loss: 0.9038 - accuracy: 0.7238 - val_loss: 1.2145 - val_accuracy: 0.6081\n",
      "Epoch 27/100\n",
      "31/31 [==============================] - 261s 8s/step - loss: 0.9045 - accuracy: 0.7097 - val_loss: 3.7196 - val_accuracy: 0.4231\n",
      "Epoch 28/100\n",
      "31/31 [==============================] - 264s 9s/step - loss: 0.7753 - accuracy: 0.7424 - val_loss: 1.5768 - val_accuracy: 0.6034\n",
      "Epoch 29/100\n",
      "31/31 [==============================] - 262s 8s/step - loss: 0.8247 - accuracy: 0.7334 - val_loss: 1.2781 - val_accuracy: 0.6484\n",
      "Epoch 30/100\n",
      "31/31 [==============================] - 258s 8s/step - loss: 0.7943 - accuracy: 0.7536 - val_loss: 2.1399 - val_accuracy: 0.5610\n",
      "Epoch 31/100\n",
      "31/31 [==============================] - 263s 8s/step - loss: 0.8701 - accuracy: 0.7268 - val_loss: 1.2864 - val_accuracy: 0.5703\n",
      "Epoch 32/100\n",
      "31/31 [==============================] - 264s 9s/step - loss: 0.8507 - accuracy: 0.7238 - val_loss: 1.3818 - val_accuracy: 0.6247\n",
      "Epoch 33/100\n",
      "31/31 [==============================] - 261s 8s/step - loss: 0.7749 - accuracy: 0.7525 - val_loss: 1.2732 - val_accuracy: 0.6094\n",
      "Epoch 34/100\n",
      "31/31 [==============================] - 267s 9s/step - loss: 0.7859 - accuracy: 0.7404 - val_loss: 0.8428 - val_accuracy: 0.7520\n",
      "Epoch 35/100\n",
      "31/31 [==============================] - 262s 8s/step - loss: 0.7565 - accuracy: 0.7424 - val_loss: 1.7149 - val_accuracy: 0.6512\n",
      "Epoch 36/100\n",
      "31/31 [==============================] - 264s 9s/step - loss: 0.7189 - accuracy: 0.7792 - val_loss: 2.2366 - val_accuracy: 0.5169\n",
      "Epoch 37/100\n",
      "31/31 [==============================] - 256s 8s/step - loss: 0.7583 - accuracy: 0.7479 - val_loss: 1.3435 - val_accuracy: 0.6419\n",
      "Epoch 38/100\n",
      "31/31 [==============================] - 263s 8s/step - loss: 0.6962 - accuracy: 0.7777 - val_loss: 1.8764 - val_accuracy: 0.6367\n",
      "Epoch 39/100\n",
      "31/31 [==============================] - 259s 8s/step - loss: 0.7357 - accuracy: 0.7763 - val_loss: 0.9754 - val_accuracy: 0.7016\n",
      "Epoch 40/100\n",
      "31/31 [==============================] - 265s 9s/step - loss: 0.6554 - accuracy: 0.7954 - val_loss: 1.1879 - val_accuracy: 0.6875\n",
      "Epoch 41/100\n",
      "31/31 [==============================] - 264s 9s/step - loss: 0.6163 - accuracy: 0.8080 - val_loss: 1.2997 - val_accuracy: 0.6048\n",
      "Epoch 42/100\n",
      "31/31 [==============================] - 261s 8s/step - loss: 0.7484 - accuracy: 0.7581 - val_loss: 1.9320 - val_accuracy: 0.5690\n",
      "Epoch 43/100\n",
      "31/31 [==============================] - 262s 8s/step - loss: 0.6592 - accuracy: 0.7878 - val_loss: 1.0975 - val_accuracy: 0.6576\n",
      "Epoch 44/100\n",
      "31/31 [==============================] - 265s 9s/step - loss: 0.5903 - accuracy: 0.8145 - val_loss: 0.6707 - val_accuracy: 0.6618\n",
      "Epoch 45/100\n",
      "31/31 [==============================] - 258s 8s/step - loss: 0.6783 - accuracy: 0.7862 - val_loss: 3.4922 - val_accuracy: 0.4245\n",
      "Epoch 46/100\n",
      "31/31 [==============================] - 262s 8s/step - loss: 0.6117 - accuracy: 0.8120 - val_loss: 1.2969 - val_accuracy: 0.5676\n",
      "Epoch 47/100\n",
      "31/31 [==============================] - 265s 9s/step - loss: 0.6430 - accuracy: 0.7969 - val_loss: 2.0500 - val_accuracy: 0.6003\n",
      "Epoch 48/100\n",
      "31/31 [==============================] - 264s 9s/step - loss: 0.5382 - accuracy: 0.8286 - val_loss: 0.9449 - val_accuracy: 0.6538\n",
      "Epoch 49/100\n",
      "31/31 [==============================] - 264s 9s/step - loss: 0.5356 - accuracy: 0.8241 - val_loss: 2.0611 - val_accuracy: 0.6207\n",
      "Epoch 50/100\n",
      "31/31 [==============================] - 263s 8s/step - loss: 0.6293 - accuracy: 0.7954 - val_loss: 0.8100 - val_accuracy: 0.7031\n",
      "Epoch 51/100\n",
      "31/31 [==============================] - 262s 8s/step - loss: 0.6234 - accuracy: 0.8115 - val_loss: 2.5197 - val_accuracy: 0.5186\n",
      "Epoch 52/100\n",
      "31/31 [==============================] - 262s 8s/step - loss: 0.5634 - accuracy: 0.8291 - val_loss: 1.4943 - val_accuracy: 0.6315\n",
      "Epoch 53/100\n",
      "31/31 [==============================] - 261s 8s/step - loss: 0.5531 - accuracy: 0.8270 - val_loss: 1.2707 - val_accuracy: 0.6499\n",
      "Epoch 54/100\n",
      "31/31 [==============================] - 263s 8s/step - loss: 0.5888 - accuracy: 0.8115 - val_loss: 1.9129 - val_accuracy: 0.6198\n",
      "Epoch 55/100\n",
      "31/31 [==============================] - 259s 8s/step - loss: 0.5135 - accuracy: 0.8419 - val_loss: 0.6288 - val_accuracy: 0.8050\n",
      "Epoch 56/100\n",
      "31/31 [==============================] - 263s 8s/step - loss: 0.5148 - accuracy: 0.8422 - val_loss: 1.7836 - val_accuracy: 0.6870\n",
      "Epoch 57/100\n",
      "31/31 [==============================] - 262s 8s/step - loss: 0.5404 - accuracy: 0.8291 - val_loss: 1.0373 - val_accuracy: 0.6562\n",
      "Epoch 58/100\n",
      "31/31 [==============================] - 263s 8s/step - loss: 0.4906 - accuracy: 0.8448 - val_loss: 1.7749 - val_accuracy: 0.6326\n",
      "Epoch 59/100\n",
      "31/31 [==============================] - 265s 9s/step - loss: 0.4953 - accuracy: 0.8402 - val_loss: 1.7932 - val_accuracy: 0.5169\n",
      "Epoch 60/100\n",
      "31/31 [==============================] - 261s 8s/step - loss: 0.4280 - accuracy: 0.8654 - val_loss: 0.5259 - val_accuracy: 0.7560\n",
      "Epoch 61/100\n",
      "31/31 [==============================] - 264s 9s/step - loss: 0.4383 - accuracy: 0.8594 - val_loss: 1.7181 - val_accuracy: 0.5807\n",
      "Epoch 62/100\n",
      "31/31 [==============================] - 267s 9s/step - loss: 0.4889 - accuracy: 0.8448 - val_loss: 1.3762 - val_accuracy: 0.6565\n",
      "Epoch 63/100\n",
      "31/31 [==============================] - 257s 8s/step - loss: 0.5090 - accuracy: 0.8373 - val_loss: 1.4021 - val_accuracy: 0.5676\n",
      "Epoch 64/100\n",
      "31/31 [==============================] - 266s 9s/step - loss: 0.5051 - accuracy: 0.8382 - val_loss: 0.8062 - val_accuracy: 0.7656\n",
      "Epoch 65/100\n",
      "31/31 [==============================] - 266s 9s/step - loss: 0.4276 - accuracy: 0.8508 - val_loss: 0.7456 - val_accuracy: 0.7334\n",
      "Epoch 66/100\n",
      "31/31 [==============================] - 265s 9s/step - loss: 0.4083 - accuracy: 0.8659 - val_loss: 0.7847 - val_accuracy: 0.7969\n",
      "Epoch 67/100\n",
      "31/31 [==============================] - 261s 8s/step - loss: 0.4884 - accuracy: 0.8528 - val_loss: 1.2676 - val_accuracy: 0.6340\n",
      "Epoch 68/100\n",
      "31/31 [==============================] - 264s 9s/step - loss: 0.4409 - accuracy: 0.8629 - val_loss: 0.5668 - val_accuracy: 0.7721\n",
      "Epoch 69/100\n",
      "31/31 [==============================] - 265s 9s/step - loss: 0.3922 - accuracy: 0.8795 - val_loss: 0.5646 - val_accuracy: 0.8475\n",
      "Epoch 70/100\n",
      "31/31 [==============================] - 263s 8s/step - loss: 0.4148 - accuracy: 0.8634 - val_loss: 1.2385 - val_accuracy: 0.7029\n",
      "Epoch 71/100\n",
      "31/31 [==============================] - 262s 8s/step - loss: 0.3590 - accuracy: 0.8851 - val_loss: 1.5366 - val_accuracy: 0.6797\n",
      "Epoch 72/100\n",
      "31/31 [==============================] - 265s 9s/step - loss: 0.4111 - accuracy: 0.8730 - val_loss: 1.4834 - val_accuracy: 0.6976\n",
      "Epoch 73/100\n",
      "31/31 [==============================] - 266s 9s/step - loss: 0.4116 - accuracy: 0.8674 - val_loss: 1.6725 - val_accuracy: 0.6107\n",
      "Epoch 74/100\n",
      "31/31 [==============================] - 264s 9s/step - loss: 0.4099 - accuracy: 0.8780 - val_loss: 0.4924 - val_accuracy: 0.8435\n",
      "Epoch 75/100\n",
      "31/31 [==============================] - 263s 8s/step - loss: 0.4155 - accuracy: 0.8664 - val_loss: 0.9651 - val_accuracy: 0.7643\n",
      "Epoch 76/100\n",
      "31/31 [==============================] - 260s 8s/step - loss: 0.4379 - accuracy: 0.8626 - val_loss: 1.7314 - val_accuracy: 0.6950\n",
      "Epoch 77/100\n",
      "31/31 [==============================] - 264s 9s/step - loss: 0.3916 - accuracy: 0.8649 - val_loss: 1.1420 - val_accuracy: 0.7042\n",
      "Epoch 78/100\n",
      "31/31 [==============================] - 265s 9s/step - loss: 0.3653 - accuracy: 0.8765 - val_loss: 1.5335 - val_accuracy: 0.6549\n",
      "Epoch 79/100\n",
      "31/31 [==============================] - 266s 9s/step - loss: 0.4005 - accuracy: 0.8705 - val_loss: 1.0255 - val_accuracy: 0.7759\n",
      "Epoch 80/100\n",
      "31/31 [==============================] - 257s 8s/step - loss: 0.4152 - accuracy: 0.8688 - val_loss: 2.9645 - val_accuracy: 0.4948\n",
      "Epoch 81/100\n",
      "31/31 [==============================] - 262s 8s/step - loss: 0.4127 - accuracy: 0.8725 - val_loss: 1.5031 - val_accuracy: 0.6485\n",
      "Epoch 82/100\n",
      "31/31 [==============================] - 263s 8s/step - loss: 0.3692 - accuracy: 0.8846 - val_loss: 1.2528 - val_accuracy: 0.6784\n",
      "Epoch 83/100\n",
      "31/31 [==============================] - 268s 9s/step - loss: 0.3360 - accuracy: 0.8896 - val_loss: 0.9948 - val_accuracy: 0.6790\n",
      "Epoch 84/100\n",
      "31/31 [==============================] - 261s 8s/step - loss: 0.3914 - accuracy: 0.8750 - val_loss: 2.1064 - val_accuracy: 0.6605\n",
      "Epoch 85/100\n",
      "31/31 [==============================] - 263s 8s/step - loss: 0.3709 - accuracy: 0.8800 - val_loss: 0.4133 - val_accuracy: 0.8346\n",
      "Epoch 86/100\n",
      "31/31 [==============================] - 256s 8s/step - loss: 0.3639 - accuracy: 0.8884 - val_loss: 3.7180 - val_accuracy: 0.5663\n",
      "Epoch 87/100\n",
      "31/31 [==============================] - 265s 9s/step - loss: 0.4064 - accuracy: 0.8647 - val_loss: 0.4707 - val_accuracy: 0.7539\n",
      "Epoch 88/100\n",
      "31/31 [==============================] - 262s 8s/step - loss: 0.3700 - accuracy: 0.8816 - val_loss: 0.6831 - val_accuracy: 0.8064\n",
      "Epoch 89/100\n",
      "31/31 [==============================] - 266s 9s/step - loss: 0.3713 - accuracy: 0.8805 - val_loss: 0.7288 - val_accuracy: 0.7695\n",
      "Epoch 90/100\n",
      "31/31 [==============================] - 264s 9s/step - loss: 0.3452 - accuracy: 0.8906 - val_loss: 0.4375 - val_accuracy: 0.7533\n",
      "Epoch 91/100\n",
      "31/31 [==============================] - 267s 9s/step - loss: 0.3508 - accuracy: 0.8916 - val_loss: 0.9632 - val_accuracy: 0.7719\n",
      "Epoch 92/100\n",
      "31/31 [==============================] - 264s 9s/step - loss: 0.3438 - accuracy: 0.8921 - val_loss: 0.6830 - val_accuracy: 0.7839\n",
      "Epoch 93/100\n",
      "31/31 [==============================] - 259s 8s/step - loss: 0.3172 - accuracy: 0.8967 - val_loss: 0.6255 - val_accuracy: 0.7255\n",
      "Epoch 94/100\n",
      "31/31 [==============================] - 265s 9s/step - loss: 0.3052 - accuracy: 0.9022 - val_loss: 1.0305 - val_accuracy: 0.7422\n",
      "Epoch 95/100\n",
      "31/31 [==============================] - 261s 8s/step - loss: 0.3595 - accuracy: 0.8896 - val_loss: 1.7719 - val_accuracy: 0.6446\n",
      "Epoch 96/100\n",
      "31/31 [==============================] - 264s 9s/step - loss: 0.3183 - accuracy: 0.8947 - val_loss: 1.0458 - val_accuracy: 0.7917\n",
      "Epoch 97/100\n",
      "31/31 [==============================] - 259s 8s/step - loss: 0.3452 - accuracy: 0.8906 - val_loss: 2.0830 - val_accuracy: 0.6379\n",
      "Epoch 98/100\n",
      "31/31 [==============================] - 261s 8s/step - loss: 0.3636 - accuracy: 0.8841 - val_loss: 0.9305 - val_accuracy: 0.7467\n",
      "Epoch 99/100\n",
      "31/31 [==============================] - 261s 8s/step - loss: 0.3255 - accuracy: 0.8957 - val_loss: 0.8548 - val_accuracy: 0.7526\n",
      "Epoch 100/100\n",
      "31/31 [==============================] - 259s 8s/step - loss: 0.2712 - accuracy: 0.9153 - val_loss: 0.6834 - val_accuracy: 0.8103\n"
     ]
    }
   ],
   "source": [
    "model_fit_history = model.fit_generator(train_image_generator,\n",
    "        steps_per_epoch=2000 // batch_size,\n",
    "        epochs=100,\n",
    "        validation_data=validation_image_generator,\n",
    "        validation_steps=800 // batch_size)"
   ]
  },
  {
   "cell_type": "code",
   "execution_count": 9,
   "metadata": {
    "colab": {
     "base_uri": "https://localhost:8080/",
     "height": 376
    },
    "colab_type": "code",
    "collapsed": false,
    "id": "8cOnlc5qPWXi",
    "outputId": "709486e8-1911-418f-e98e-70145bc119ee"
   },
   "outputs": [
    {
     "data": {
      "image/png": "[encoded data removed]",
      "text/plain": [
       "<Figure size 576x396 with 1 Axes>"
      ]
     },
     "metadata": {},
     "output_type": "display_data"
    }
   ],
   "source": [
    "matplotlib.style.use('seaborn')\n",
    "epochs = len(model_fit_history.history['loss'])\n",
    "max_loss = max(max(model_fit_history.history['loss']), max(model_fit_history.history['val_loss']))\n",
    "plt.axis([0, epochs+1, 0, round(max_loss * 2.0) / 2 + 0.5])\n",
    "x = np.arange(1, epochs+1)\n",
    "plt.plot(x, model_fit_history.history['loss'])\n",
    "plt.plot(x, model_fit_history.history['val_loss'])\n",
    "plt.title('Training loss vs. Validation loss')\n",
    "plt.ylabel('Loss')\n",
    "plt.xlabel('Epoch')\n",
    "plt.legend(['Training', 'Validation'], loc='right')\n",
    "plt.show()"
   ]
  },
  {
   "cell_type": "code",
   "execution_count": 10,
   "metadata": {
    "colab": {
     "base_uri": "https://localhost:8080/",
     "height": 376
    },
    "colab_type": "code",
    "collapsed": false,
    "id": "wM3or4liPXLf",
    "outputId": "64c0ac21-f1f4-4927-ba80-2ba5185652c2"
   },
   "outputs": [
    {
     "data": {
      "image/png": "[encoded data removed]",
      "text/plain": [
       "<Figure size 576x396 with 1 Axes>"
      ]
     },
     "metadata": {},
     "output_type": "display_data"
    }
   ],
   "source": [
    "matplotlib.style.use('seaborn')\n",
    "epochs = len(model_fit_history.history['accuracy'])\n",
    "plt.axis([0, epochs+1, 0, 1.2])\n",
    "x = np.arange(1, epochs+1)\n",
    "plt.plot(x, model_fit_history.history['accuracy'])\n",
    "plt.plot(x, model_fit_history.history['val_accuracy'])\n",
    "plt.title('Training accuracy vs. Validation accuracy')\n",
    "plt.ylabel('Accuracy')\n",
    "plt.xlabel('Epoch')\n",
    "plt.legend(['Training', 'Validation'], loc='right')\n",
    "plt.show()"
   ]
  },
  {
   "cell_type": "code",
   "execution_count": 11,
   "metadata": {
    "colab": {},
    "colab_type": "code",
    "collapsed": true,
    "id": "0QSnJKa_PbHn"
   },
   "outputs": [],
   "source": [
    "y_pred = model.predict_classes(X['Test'], verbose=0)"
   ]
  },
  {
   "cell_type": "code",
   "execution_count": 12,
   "metadata": {
    "colab": {
     "base_uri": "https://localhost:8080/",
     "height": 580
    },
    "colab_type": "code",
    "collapsed": false,
    "id": "VvGLMHJYPgLe",
    "outputId": "dcd607a6-6315-4f94-b17f-6574ee18f434"
   },
   "outputs": [
    {
     "name": "stdout",
     "output_type": "stream",
     "text": [
      "0.8157894736842105\n",
      "              precision    recall  f1-score   support\n",
      "\n",
      "           0       0.95      0.83      0.89        70\n",
      "           1       0.95      0.84      0.89        70\n",
      "           2       0.57      0.99      0.72        70\n",
      "           3       0.98      0.83      0.90        70\n",
      "           4       0.80      0.80      0.80        70\n",
      "           5       0.90      1.00      0.95        70\n",
      "           6       0.67      0.73      0.70        70\n",
      "           7       1.00      0.71      0.83        70\n",
      "           8       0.96      0.91      0.93        70\n",
      "           9       1.00      0.43      0.60        70\n",
      "          10       0.73      0.80      0.76        70\n",
      "          11       0.89      0.81      0.85        70\n",
      "          12       0.90      0.61      0.73        70\n",
      "          13       0.61      0.99      0.75        70\n",
      "          14       0.97      0.84      0.90        70\n",
      "          15       0.87      0.83      0.85        70\n",
      "          16       0.79      0.94      0.86        70\n",
      "          17       0.98      0.73      0.84        70\n",
      "          18       0.68      0.87      0.76        70\n",
      "\n",
      "    accuracy                           0.82      1330\n",
      "   macro avg       0.85      0.82      0.82      1330\n",
      "weighted avg       0.85      0.82      0.82      1330\n",
      "\n"
     ]
    }
   ],
   "source": [
    "y_test = np.nonzero(Y['Test'])[1]\n",
    "accuracy = accuracy_score(y_test, y_pred)\n",
    "print(accuracy)\n",
    "print(classification_report(y_test, y_pred))"
   ]
  }
 ],
 "metadata": {
  "accelerator": "GPU",
  "colab": {
   "collapsed_sections": [],
   "name": "VGGScratch.ipynb",
   "provenance": []
  },
  "kernelspec": {
   "display_name": "kerasenv",
   "language": "python",
   "name": "kerasenv"
  },
  "language_info": {
   "codemirror_mode": {
    "name": "ipython",
    "version": 3
   },
   "file_extension": ".py",
   "mimetype": "text/x-python",
   "name": "python",
   "nbconvert_exporter": "python",
   "pygments_lexer": "ipython3",
   "version": "3.7.7"
  }
 },
 "nbformat": 4,
 "nbformat_minor": 0
}
