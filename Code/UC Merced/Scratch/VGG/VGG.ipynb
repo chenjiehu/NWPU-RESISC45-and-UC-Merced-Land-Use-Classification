{
 "cells": [
  {
   "cell_type": "code",
   "execution_count": 0,
   "metadata": {
    "colab": {
     "base_uri": "https://localhost:8080/",
     "height": 128
    },
    "colab_type": "code",
    "collapsed": false,
    "deletable": true,
    "editable": true,
    "id": "viZgyLOTOY07",
    "outputId": "f5fe7dc0-3083-4270-b0d7-a172e0cff0b8"
   },
   "outputs": [
    {
     "name": "stdout",
     "output_type": "stream",
     "text": [
      "Go to this URL in a browser: https://accounts.google.com/o/oauth2/auth?client_id=947318989803-6bn6qk8qdgf4n4g3pfee6491hc0brc4i.apps.googleusercontent.com&redirect_uri=urn%3aietf%3awg%3aoauth%3a2.0%3aoob&response_type=code&scope=email%20https%3a%2f%2fwww.googleapis.com%2fauth%2fdocs.test%20https%3a%2f%2fwww.googleapis.com%2fauth%2fdrive%20https%3a%2f%2fwww.googleapis.com%2fauth%2fdrive.photos.readonly%20https%3a%2f%2fwww.googleapis.com%2fauth%2fpeopleapi.readonly\n",
      "\n",
      "Enter your authorization code:\n",
      "··········\n",
      "Mounted at /content/drive\n"
     ]
    }
   ],
   "source": [
    "from google.colab import drive\n",
    "drive.mount('/content/drive')"
   ]
  },
  {
   "cell_type": "code",
   "execution_count": 0,
   "metadata": {
    "colab": {
     "base_uri": "https://localhost:8080/",
     "height": 35
    },
    "colab_type": "code",
    "collapsed": false,
    "deletable": true,
    "editable": true,
    "id": "welgb6o3ObNq",
    "outputId": "319e68fc-aa46-4388-df91-f12a2f111d23"
   },
   "outputs": [
    {
     "name": "stderr",
     "output_type": "stream",
     "text": [
      "Using TensorFlow backend.\n"
     ]
    }
   ],
   "source": [
    "import keras\n",
    "import os\n",
    "import matplotlib\n",
    "import matplotlib.pyplot as plt\n",
    "import cv2\n",
    "from keras.models import Sequential\n",
    "from keras.layers import Dense, Activation, Dropout, Flatten, Conv2D, MaxPooling2D, MaxPool2D\n",
    "from keras.layers.normalization import BatchNormalization\n",
    "from keras.preprocessing.image import ImageDataGenerator\n",
    "from pathlib import Path \n",
    "from keras.optimizers import Adam\n",
    "from keras import backend\n",
    "from keras import optimizers\n",
    "from sklearn.metrics import accuracy_score, classification_report\n",
    "import numpy as np\n",
    "np.random.seed(1001)"
   ]
  },
  {
   "cell_type": "code",
   "execution_count": 0,
   "metadata": {
    "colab": {
     "base_uri": "https://localhost:8080/",
     "height": 72
    },
    "colab_type": "code",
    "collapsed": false,
    "deletable": true,
    "editable": true,
    "id": "hDnLdP7OOfgG",
    "outputId": "a86d81d1-07bf-42bc-cf3b-051176d47436"
   },
   "outputs": [
    {
     "name": "stdout",
     "output_type": "stream",
     "text": [
      "/content\n",
      "/content/drive/My Drive/CVProject\n",
      "/content/drive/My Drive/CVProject\n"
     ]
    }
   ],
   "source": [
    "!pwd\n",
    "%cd \"drive/My Drive/CVProject\"\n",
    "!pwd"
   ]
  },
  {
   "cell_type": "code",
   "execution_count": 0,
   "metadata": {
    "colab": {},
    "colab_type": "code",
    "collapsed": true,
    "deletable": true,
    "editable": true,
    "id": "AEDFKuFUOhzQ"
   },
   "outputs": [],
   "source": [
    "class_names = os.listdir('UCMerced_LandUse/Train/')\n",
    "target_dirs = {target: './UCMerced_LandUse/' + target for target in ['Train', 'Validation', 'Test']}"
   ]
  },
  {
   "cell_type": "code",
   "execution_count": 0,
   "metadata": {
    "colab": {
     "base_uri": "https://localhost:8080/",
     "height": 72
    },
    "colab_type": "code",
    "collapsed": false,
    "deletable": true,
    "editable": true,
    "id": "CYA41l76Okwm",
    "outputId": "451b5466-9f1d-49b2-e0c5-3fcf36d604c7"
   },
   "outputs": [
    {
     "name": "stdout",
     "output_type": "stream",
     "text": [
      "Found 1785 images belonging to 21 classes.\n",
      "Found 210 images belonging to 21 classes.\n",
      "Found 210 images belonging to 21 classes.\n"
     ]
    }
   ],
   "source": [
    "batch_size = 64\n",
    "train_data_generator =  ImageDataGenerator(rescale=1/255.0,\n",
    "                                          rotation_range=20,\n",
    "                                          width_shift_range=0.2,\n",
    "                                          height_shift_range=0.2,\n",
    "                                          horizontal_flip=True)\n",
    "train_image_generator = train_data_generator.flow_from_directory(target_dirs['Train'],\n",
    "                                                       target_size=(224, 224),\n",
    "                                                       batch_size=batch_size,\n",
    "                                                       shuffle=True)\n",
    "test_data_generator =  ImageDataGenerator(rescale=1/255.0)\n",
    "test_image_generator = test_data_generator.flow_from_directory(target_dirs['Test'],\n",
    "                                                       target_size=(224, 224),\n",
    "                                                       batch_size=batch_size,\n",
    "                                                       shuffle=True)\n",
    "validation_data_generator =  ImageDataGenerator(rescale=1/255.0)\n",
    "validation_image_generator = validation_data_generator.flow_from_directory(target_dirs['Validation'],\n",
    "                                                       target_size=(224, 224),\n",
    "                                                       batch_size=batch_size,\n",
    "                                                       shuffle=True) \n",
    "def getDataUsingDataGenerators(dataset):\n",
    "    print(dataset)\n",
    "    if dataset == 'Train':\n",
    "     image_generator = train_image_generator\n",
    "    elif dataset == 'Validation':\n",
    "      image_generator = validation_image_generator\n",
    "    else:\n",
    "      image_generator = test_image_generator\n",
    "    image_count = 0\n",
    "    X_batches, Y_batches = [], []\n",
    "    for X, Y in image_generator:\n",
    "      X_batches.append(X)\n",
    "      Y_batches.append(Y)\n",
    "      image_count += X.shape[0]\n",
    "      # Must interrupt image_generator\n",
    "      if image_count >= image_generator.n:\n",
    "        break\n",
    "    X = np.concatenate(X_batches)\n",
    "    Y = np.concatenate(Y_batches)\n",
    "    return X, Y "
   ]
  },
  {
   "cell_type": "code",
   "execution_count": 0,
   "metadata": {
    "colab": {
     "base_uri": "https://localhost:8080/",
     "height": 72
    },
    "colab_type": "code",
    "collapsed": false,
    "deletable": true,
    "editable": true,
    "id": "okK12uvoOsDM",
    "outputId": "5a9f6fed-f3f1-44d3-d0aa-7d35adf29e95"
   },
   "outputs": [
    {
     "name": "stdout",
     "output_type": "stream",
     "text": [
      "Validation\n",
      "Test\n",
      "Train\n"
     ]
    }
   ],
   "source": [
    "num_classes = len(class_names)\n",
    "X, Y = dict(), dict()\n",
    "for dataset in [ 'Validation', 'Test','Train']:\n",
    "    # Extract bottleneck features from pretrained model, predicting from \"dataset\" directory\n",
    "    X[dataset], Y[dataset] = getDataUsingDataGenerators(dataset)"
   ]
  },
  {
   "cell_type": "code",
   "execution_count": 0,
   "metadata": {
    "colab": {
     "base_uri": "https://localhost:8080/",
     "height": 35
    },
    "colab_type": "code",
    "collapsed": false,
    "deletable": true,
    "editable": true,
    "id": "cFuaPYwvkGrT",
    "outputId": "ff53b7bf-501e-4d2d-87ee-064d1511bf0a"
   },
   "outputs": [
    {
     "data": {
      "text/plain": [
       "'/device:GPU:0'"
      ]
     },
     "execution_count": 8,
     "metadata": {
      "tags": []
     },
     "output_type": "execute_result"
    }
   ],
   "source": [
    "import tensorflow as tf\n",
    "tf.test.gpu_device_name()"
   ]
  },
  {
   "cell_type": "code",
   "execution_count": 0,
   "metadata": {
    "colab": {},
    "colab_type": "code",
    "collapsed": true,
    "deletable": true,
    "editable": true,
    "id": "WGm03W4ZO6KS"
   },
   "outputs": [],
   "source": [
    "def build_model(input_shape, num_classes):\n",
    "  model = Sequential()\n",
    "  model.add(Conv2D(input_shape=(224,224,3),filters=64,kernel_size=(3,3),padding=\"same\", activation=\"relu\"))\n",
    "  model.add(Conv2D(filters=64,kernel_size=(3,3),padding=\"same\", activation=\"relu\"))\n",
    "  model.add(BatchNormalization())\n",
    "  model.add(MaxPool2D(pool_size=(2,2),strides=(2,2)))\n",
    "  model.add(Conv2D(filters=128,kernel_size=(3,3),padding=\"same\", activation=\"relu\"))\n",
    "  model.add(Conv2D(filters=128,kernel_size=(3,3),padding=\"same\", activation=\"relu\"))\n",
    "  model.add(BatchNormalization())\n",
    "  model.add(MaxPool2D(pool_size=(2,2),strides=(2,2)))\n",
    "\n",
    "  model.add(Conv2D(filters=256,kernel_size=(3,3),padding=\"same\", activation=\"relu\"))\n",
    "  model.add(Conv2D(filters=256,kernel_size=(3,3),padding=\"same\", activation=\"relu\"))\n",
    "  model.add(Conv2D(filters=256,kernel_size=(3,3),padding=\"same\", activation=\"relu\"))\n",
    "  model.add(BatchNormalization())\n",
    "  model.add(MaxPool2D(pool_size=(2,2),strides=(2,2)))\n",
    "\n",
    "  model.add(Conv2D(filters=512,kernel_size=(3,3),padding=\"same\", activation=\"relu\"))\n",
    "  model.add(Conv2D(filters=512,kernel_size=(3,3),padding=\"same\", activation=\"relu\"))\n",
    "  model.add(Conv2D(filters=512,kernel_size=(3,3),padding=\"same\", activation=\"relu\"))\n",
    "  model.add(BatchNormalization())\n",
    "  model.add(MaxPool2D(pool_size=(2,2),strides=(2,2)))\n",
    "\n",
    "  model.add(Conv2D(filters=512,kernel_size=(3,3),padding=\"same\", activation=\"relu\"))\n",
    "  model.add(Conv2D(filters=512,kernel_size=(3,3),padding=\"same\", activation=\"relu\"))\n",
    "  model.add(Conv2D(filters=512,kernel_size=(3,3),padding=\"same\", activation=\"relu\"))\n",
    "  model.add(BatchNormalization())\n",
    "  model.add(MaxPool2D(pool_size=(2,2),strides=(2,2)))\n",
    "\n",
    "  model.add(Flatten())\n",
    "  model.add(Dense(units=4096,activation=\"relu\"))\n",
    "  model.add(Dense(units=4096,activation=\"relu\"))\n",
    "  model.add(Dropout(0.5))\n",
    "  model.add(Dense(units=21,activation=\"softmax\"))\n",
    "  return model"
   ]
  },
  {
   "cell_type": "code",
   "execution_count": 0,
   "metadata": {
    "colab": {
     "base_uri": "https://localhost:8080/",
     "height": 1000
    },
    "colab_type": "code",
    "collapsed": false,
    "deletable": true,
    "editable": true,
    "id": "JfVjW6baPO9S",
    "outputId": "307d4851-d279-4966-cf3e-eb80b09f8c8c"
   },
   "outputs": [
    {
     "name": "stdout",
     "output_type": "stream",
     "text": [
      "Model: \"sequential_2\"\n",
      "_________________________________________________________________\n",
      "Layer (type)                 Output Shape              Param #   \n",
      "=================================================================\n",
      "conv2d_14 (Conv2D)           (None, 224, 224, 64)      1792      \n",
      "_________________________________________________________________\n",
      "conv2d_15 (Conv2D)           (None, 224, 224, 64)      36928     \n",
      "_________________________________________________________________\n",
      "batch_normalization_6 (Batch (None, 224, 224, 64)      256       \n",
      "_________________________________________________________________\n",
      "max_pooling2d_6 (MaxPooling2 (None, 112, 112, 64)      0         \n",
      "_________________________________________________________________\n",
      "conv2d_16 (Conv2D)           (None, 112, 112, 128)     73856     \n",
      "_________________________________________________________________\n",
      "conv2d_17 (Conv2D)           (None, 112, 112, 128)     147584    \n",
      "_________________________________________________________________\n",
      "batch_normalization_7 (Batch (None, 112, 112, 128)     512       \n",
      "_________________________________________________________________\n",
      "max_pooling2d_7 (MaxPooling2 (None, 56, 56, 128)       0         \n",
      "_________________________________________________________________\n",
      "conv2d_18 (Conv2D)           (None, 56, 56, 256)       295168    \n",
      "_________________________________________________________________\n",
      "conv2d_19 (Conv2D)           (None, 56, 56, 256)       590080    \n",
      "_________________________________________________________________\n",
      "conv2d_20 (Conv2D)           (None, 56, 56, 256)       590080    \n",
      "_________________________________________________________________\n",
      "batch_normalization_8 (Batch (None, 56, 56, 256)       1024      \n",
      "_________________________________________________________________\n",
      "max_pooling2d_8 (MaxPooling2 (None, 28, 28, 256)       0         \n",
      "_________________________________________________________________\n",
      "conv2d_21 (Conv2D)           (None, 28, 28, 512)       1180160   \n",
      "_________________________________________________________________\n",
      "conv2d_22 (Conv2D)           (None, 28, 28, 512)       2359808   \n",
      "_________________________________________________________________\n",
      "conv2d_23 (Conv2D)           (None, 28, 28, 512)       2359808   \n",
      "_________________________________________________________________\n",
      "batch_normalization_9 (Batch (None, 28, 28, 512)       2048      \n",
      "_________________________________________________________________\n",
      "max_pooling2d_9 (MaxPooling2 (None, 14, 14, 512)       0         \n",
      "_________________________________________________________________\n",
      "conv2d_24 (Conv2D)           (None, 14, 14, 512)       2359808   \n",
      "_________________________________________________________________\n",
      "conv2d_25 (Conv2D)           (None, 14, 14, 512)       2359808   \n",
      "_________________________________________________________________\n",
      "conv2d_26 (Conv2D)           (None, 14, 14, 512)       2359808   \n",
      "_________________________________________________________________\n",
      "batch_normalization_10 (Batc (None, 14, 14, 512)       2048      \n",
      "_________________________________________________________________\n",
      "max_pooling2d_10 (MaxPooling (None, 7, 7, 512)         0         \n",
      "_________________________________________________________________\n",
      "flatten_2 (Flatten)          (None, 25088)             0         \n",
      "_________________________________________________________________\n",
      "dense_4 (Dense)              (None, 4096)              102764544 \n",
      "_________________________________________________________________\n",
      "dense_5 (Dense)              (None, 4096)              16781312  \n",
      "_________________________________________________________________\n",
      "dropout_2 (Dropout)          (None, 4096)              0         \n",
      "_________________________________________________________________\n",
      "dense_6 (Dense)              (None, 21)                86037     \n",
      "=================================================================\n",
      "Total params: 134,352,469\n",
      "Trainable params: 134,349,525\n",
      "Non-trainable params: 2,944\n",
      "_________________________________________________________________\n"
     ]
    }
   ],
   "source": [
    "model = build_model(input_shape=X['Train'].shape[1:], num_classes=num_classes)\n",
    "adam = optimizers.Adam(lr=0.0001)\n",
    "model.compile(optimizer=adam, loss='categorical_crossentropy', metrics=['accuracy'])\n",
    "model.summary()\n"
   ]
  },
  {
   "cell_type": "code",
   "execution_count": 0,
   "metadata": {
    "colab": {
     "base_uri": "https://localhost:8080/",
     "height": 1000
    },
    "colab_type": "code",
    "collapsed": false,
    "deletable": true,
    "editable": true,
    "id": "RPgU18LteAKY",
    "outputId": "32f5ec51-f5e1-4ec4-ec4e-faf1982103fb"
   },
   "outputs": [
    {
     "name": "stdout",
     "output_type": "stream",
     "text": [
      "Epoch 1/150\n",
      "31/31 [==============================] - 39s 1s/step - loss: 4.0464 - accuracy: 0.2281 - val_loss: 4.6869 - val_accuracy: 0.0476\n",
      "Epoch 2/150\n",
      "31/31 [==============================] - 35s 1s/step - loss: 1.9273 - accuracy: 0.4370 - val_loss: 9.0394 - val_accuracy: 0.0476\n",
      "Epoch 3/150\n",
      "31/31 [==============================] - 35s 1s/step - loss: 1.5876 - accuracy: 0.5071 - val_loss: 12.1313 - val_accuracy: 0.0476\n",
      "Epoch 4/150\n",
      "31/31 [==============================] - 35s 1s/step - loss: 1.3653 - accuracy: 0.5685 - val_loss: 9.2542 - val_accuracy: 0.0476\n",
      "Epoch 5/150\n",
      "31/31 [==============================] - 35s 1s/step - loss: 1.1048 - accuracy: 0.6462 - val_loss: 10.5760 - val_accuracy: 0.0476\n",
      "Epoch 6/150\n",
      "31/31 [==============================] - 35s 1s/step - loss: 1.1232 - accuracy: 0.6482 - val_loss: 10.3473 - val_accuracy: 0.0476\n",
      "Epoch 7/150\n",
      "31/31 [==============================] - 35s 1s/step - loss: 1.0398 - accuracy: 0.6635 - val_loss: 11.5869 - val_accuracy: 0.0476\n",
      "Epoch 8/150\n",
      "31/31 [==============================] - 35s 1s/step - loss: 0.8555 - accuracy: 0.7274 - val_loss: 14.7557 - val_accuracy: 0.0476\n",
      "Epoch 9/150\n",
      "31/31 [==============================] - 35s 1s/step - loss: 0.8063 - accuracy: 0.7355 - val_loss: 17.8897 - val_accuracy: 0.0476\n",
      "Epoch 10/150\n",
      "31/31 [==============================] - 36s 1s/step - loss: 0.8160 - accuracy: 0.7466 - val_loss: 9.9076 - val_accuracy: 0.0476\n",
      "Epoch 11/150\n",
      "31/31 [==============================] - 35s 1s/step - loss: 0.6665 - accuracy: 0.7855 - val_loss: 11.4594 - val_accuracy: 0.0476\n",
      "Epoch 12/150\n",
      "31/31 [==============================] - 35s 1s/step - loss: 0.5954 - accuracy: 0.8012 - val_loss: 13.7596 - val_accuracy: 0.0476\n",
      "Epoch 13/150\n",
      "31/31 [==============================] - 35s 1s/step - loss: 0.6835 - accuracy: 0.7881 - val_loss: 9.0830 - val_accuracy: 0.0476\n",
      "Epoch 14/150\n",
      "31/31 [==============================] - 35s 1s/step - loss: 0.5376 - accuracy: 0.8203 - val_loss: 10.6973 - val_accuracy: 0.0714\n",
      "Epoch 15/150\n",
      "31/31 [==============================] - 35s 1s/step - loss: 0.4366 - accuracy: 0.8483 - val_loss: 15.5119 - val_accuracy: 0.0476\n",
      "Epoch 16/150\n",
      "31/31 [==============================] - 34s 1s/step - loss: 0.3939 - accuracy: 0.8725 - val_loss: 10.7626 - val_accuracy: 0.0476\n",
      "Epoch 17/150\n",
      "31/31 [==============================] - 35s 1s/step - loss: 0.4149 - accuracy: 0.8695 - val_loss: 6.4815 - val_accuracy: 0.0905\n",
      "Epoch 18/150\n",
      "31/31 [==============================] - 35s 1s/step - loss: 0.4420 - accuracy: 0.8614 - val_loss: 7.1746 - val_accuracy: 0.1000\n",
      "Epoch 19/150\n",
      "31/31 [==============================] - 35s 1s/step - loss: 0.4157 - accuracy: 0.8629 - val_loss: 7.7054 - val_accuracy: 0.2286\n",
      "Epoch 20/150\n",
      "31/31 [==============================] - 35s 1s/step - loss: 0.3653 - accuracy: 0.8776 - val_loss: 3.7716 - val_accuracy: 0.4048\n",
      "Epoch 21/150\n",
      "31/31 [==============================] - 34s 1s/step - loss: 0.3334 - accuracy: 0.8892 - val_loss: 5.3711 - val_accuracy: 0.3238\n",
      "Epoch 22/150\n",
      "31/31 [==============================] - 34s 1s/step - loss: 0.3256 - accuracy: 0.8963 - val_loss: 4.8702 - val_accuracy: 0.3762\n",
      "Epoch 23/150\n",
      "31/31 [==============================] - 34s 1s/step - loss: 0.3852 - accuracy: 0.8777 - val_loss: 2.6770 - val_accuracy: 0.5381\n",
      "Epoch 24/150\n",
      "31/31 [==============================] - 34s 1s/step - loss: 0.2601 - accuracy: 0.9095 - val_loss: 1.8604 - val_accuracy: 0.4429\n",
      "Epoch 25/150\n",
      "31/31 [==============================] - 35s 1s/step - loss: 0.3104 - accuracy: 0.9049 - val_loss: 3.9949 - val_accuracy: 0.4333\n",
      "Epoch 26/150\n",
      "31/31 [==============================] - 34s 1s/step - loss: 0.2967 - accuracy: 0.9098 - val_loss: 2.9334 - val_accuracy: 0.4905\n",
      "Epoch 27/150\n",
      "31/31 [==============================] - 34s 1s/step - loss: 0.3018 - accuracy: 0.9096 - val_loss: 3.2664 - val_accuracy: 0.4476\n",
      "Epoch 28/150\n",
      "31/31 [==============================] - 34s 1s/step - loss: 0.2743 - accuracy: 0.9196 - val_loss: 5.8154 - val_accuracy: 0.5286\n",
      "Epoch 29/150\n",
      "31/31 [==============================] - 34s 1s/step - loss: 0.2805 - accuracy: 0.9155 - val_loss: 4.0047 - val_accuracy: 0.4905\n",
      "Epoch 30/150\n",
      "31/31 [==============================] - 34s 1s/step - loss: 0.2461 - accuracy: 0.9181 - val_loss: 2.8318 - val_accuracy: 0.4810\n",
      "Epoch 31/150\n",
      "31/31 [==============================] - 34s 1s/step - loss: 0.1884 - accuracy: 0.9403 - val_loss: 5.3018 - val_accuracy: 0.5714\n",
      "Epoch 32/150\n",
      "31/31 [==============================] - 34s 1s/step - loss: 0.2248 - accuracy: 0.9262 - val_loss: 3.9077 - val_accuracy: 0.5571\n",
      "Epoch 33/150\n",
      "31/31 [==============================] - 34s 1s/step - loss: 0.1837 - accuracy: 0.9403 - val_loss: 3.1484 - val_accuracy: 0.5143\n",
      "Epoch 34/150\n",
      "31/31 [==============================] - 34s 1s/step - loss: 0.1908 - accuracy: 0.9411 - val_loss: 2.3447 - val_accuracy: 0.5571\n",
      "Epoch 35/150\n",
      "31/31 [==============================] - 34s 1s/step - loss: 0.1745 - accuracy: 0.9464 - val_loss: 2.6590 - val_accuracy: 0.5524\n",
      "Epoch 36/150\n",
      "31/31 [==============================] - 34s 1s/step - loss: 0.1626 - accuracy: 0.9499 - val_loss: 3.0975 - val_accuracy: 0.5333\n",
      "Epoch 37/150\n",
      "31/31 [==============================] - 33s 1s/step - loss: 0.1858 - accuracy: 0.9423 - val_loss: 0.5083 - val_accuracy: 0.6810\n",
      "Epoch 38/150\n",
      "31/31 [==============================] - 35s 1s/step - loss: 0.1731 - accuracy: 0.9398 - val_loss: 1.8134 - val_accuracy: 0.5048\n",
      "Epoch 39/150\n",
      "31/31 [==============================] - 34s 1s/step - loss: 0.1748 - accuracy: 0.9462 - val_loss: 2.1860 - val_accuracy: 0.5286\n",
      "Epoch 40/150\n",
      "31/31 [==============================] - 34s 1s/step - loss: 0.1294 - accuracy: 0.9605 - val_loss: 4.2904 - val_accuracy: 0.6048\n",
      "Epoch 41/150\n",
      "31/31 [==============================] - 34s 1s/step - loss: 0.1524 - accuracy: 0.9446 - val_loss: 3.6563 - val_accuracy: 0.5238\n",
      "Epoch 42/150\n",
      "31/31 [==============================] - 34s 1s/step - loss: 0.1593 - accuracy: 0.9482 - val_loss: 2.8805 - val_accuracy: 0.4667\n",
      "Epoch 43/150\n",
      "31/31 [==============================] - 34s 1s/step - loss: 0.1339 - accuracy: 0.9531 - val_loss: 5.2338 - val_accuracy: 0.4952\n",
      "Epoch 44/150\n",
      "31/31 [==============================] - 34s 1s/step - loss: 0.1478 - accuracy: 0.9523 - val_loss: 4.1778 - val_accuracy: 0.4857\n",
      "Epoch 45/150\n",
      "31/31 [==============================] - 34s 1s/step - loss: 0.1659 - accuracy: 0.9525 - val_loss: 4.3764 - val_accuracy: 0.5476\n",
      "Epoch 46/150\n",
      "31/31 [==============================] - 34s 1s/step - loss: 0.1483 - accuracy: 0.9580 - val_loss: 2.1769 - val_accuracy: 0.5286\n",
      "Epoch 47/150\n",
      "31/31 [==============================] - 35s 1s/step - loss: 0.1901 - accuracy: 0.9428 - val_loss: 2.2187 - val_accuracy: 0.6619\n",
      "Epoch 48/150\n",
      "31/31 [==============================] - 34s 1s/step - loss: 0.1518 - accuracy: 0.9494 - val_loss: 3.3480 - val_accuracy: 0.5667\n",
      "Epoch 49/150\n",
      "31/31 [==============================] - 34s 1s/step - loss: 0.1574 - accuracy: 0.9469 - val_loss: 1.6285 - val_accuracy: 0.5524\n",
      "Epoch 50/150\n",
      "31/31 [==============================] - 34s 1s/step - loss: 0.2193 - accuracy: 0.9368 - val_loss: 2.7941 - val_accuracy: 0.5048\n",
      "Epoch 51/150\n",
      "31/31 [==============================] - 34s 1s/step - loss: 0.1911 - accuracy: 0.9431 - val_loss: 2.8197 - val_accuracy: 0.5952\n",
      "Epoch 52/150\n",
      "31/31 [==============================] - 34s 1s/step - loss: 0.1507 - accuracy: 0.9428 - val_loss: 4.9728 - val_accuracy: 0.5810\n",
      "Epoch 53/150\n",
      "31/31 [==============================] - 34s 1s/step - loss: 0.1321 - accuracy: 0.9582 - val_loss: 2.4361 - val_accuracy: 0.5667\n",
      "Epoch 54/150\n",
      "31/31 [==============================] - 34s 1s/step - loss: 0.0998 - accuracy: 0.9685 - val_loss: 1.5801 - val_accuracy: 0.5762\n",
      "Epoch 55/150\n",
      "31/31 [==============================] - 34s 1s/step - loss: 0.1107 - accuracy: 0.9590 - val_loss: 6.1575 - val_accuracy: 0.4952\n",
      "Epoch 56/150\n",
      "31/31 [==============================] - 34s 1s/step - loss: 0.1296 - accuracy: 0.9585 - val_loss: 4.6485 - val_accuracy: 0.5810\n",
      "Epoch 57/150\n",
      "31/31 [==============================] - 34s 1s/step - loss: 0.1113 - accuracy: 0.9604 - val_loss: 6.3687 - val_accuracy: 0.5238\n",
      "Epoch 58/150\n",
      "31/31 [==============================] - 34s 1s/step - loss: 0.1288 - accuracy: 0.9582 - val_loss: 1.8174 - val_accuracy: 0.4810\n",
      "Epoch 59/150\n",
      "31/31 [==============================] - 35s 1s/step - loss: 0.1039 - accuracy: 0.9661 - val_loss: 1.1439 - val_accuracy: 0.6333\n",
      "Epoch 60/150\n",
      "31/31 [==============================] - 35s 1s/step - loss: 0.1164 - accuracy: 0.9686 - val_loss: 5.0159 - val_accuracy: 0.5381\n",
      "Epoch 61/150\n",
      "31/31 [==============================] - 34s 1s/step - loss: 0.0925 - accuracy: 0.9697 - val_loss: 3.2475 - val_accuracy: 0.5571\n",
      "Epoch 62/150\n",
      "31/31 [==============================] - 35s 1s/step - loss: 0.0867 - accuracy: 0.9697 - val_loss: 3.3586 - val_accuracy: 0.5381\n",
      "Epoch 63/150\n",
      "31/31 [==============================] - 34s 1s/step - loss: 0.1208 - accuracy: 0.9635 - val_loss: 3.4183 - val_accuracy: 0.5667\n",
      "Epoch 64/150\n",
      "31/31 [==============================] - 34s 1s/step - loss: 0.1901 - accuracy: 0.9504 - val_loss: 5.8024 - val_accuracy: 0.4381\n",
      "Epoch 65/150\n",
      "31/31 [==============================] - 34s 1s/step - loss: 0.1816 - accuracy: 0.9433 - val_loss: 14.6448 - val_accuracy: 0.4381\n",
      "Epoch 66/150\n",
      "31/31 [==============================] - 36s 1s/step - loss: 0.1399 - accuracy: 0.9580 - val_loss: 1.3888 - val_accuracy: 0.5476\n",
      "Epoch 67/150\n",
      "31/31 [==============================] - 34s 1s/step - loss: 0.0727 - accuracy: 0.9787 - val_loss: 3.2609 - val_accuracy: 0.5952\n",
      "Epoch 68/150\n",
      "31/31 [==============================] - 35s 1s/step - loss: 0.0740 - accuracy: 0.9753 - val_loss: 2.7645 - val_accuracy: 0.5381\n",
      "Epoch 69/150\n",
      "31/31 [==============================] - 34s 1s/step - loss: 0.0826 - accuracy: 0.9737 - val_loss: 3.2629 - val_accuracy: 0.5524\n",
      "Epoch 70/150\n",
      "31/31 [==============================] - 34s 1s/step - loss: 0.0464 - accuracy: 0.9863 - val_loss: 2.9018 - val_accuracy: 0.6048\n",
      "Epoch 71/150\n",
      "31/31 [==============================] - 35s 1s/step - loss: 0.0760 - accuracy: 0.9763 - val_loss: 4.4186 - val_accuracy: 0.6429\n",
      "Epoch 72/150\n",
      "31/31 [==============================] - 35s 1s/step - loss: 0.1243 - accuracy: 0.9666 - val_loss: 2.6075 - val_accuracy: 0.5000\n",
      "Epoch 73/150\n",
      "31/31 [==============================] - 34s 1s/step - loss: 0.0889 - accuracy: 0.9721 - val_loss: 3.0701 - val_accuracy: 0.5571\n",
      "Epoch 74/150\n",
      "31/31 [==============================] - 35s 1s/step - loss: 0.0963 - accuracy: 0.9712 - val_loss: 2.1761 - val_accuracy: 0.6667\n",
      "Epoch 75/150\n",
      "31/31 [==============================] - 36s 1s/step - loss: 0.0789 - accuracy: 0.9727 - val_loss: 2.0991 - val_accuracy: 0.6190\n",
      "Epoch 76/150\n",
      "31/31 [==============================] - 36s 1s/step - loss: 0.0748 - accuracy: 0.9756 - val_loss: 5.3484 - val_accuracy: 0.5333\n",
      "Epoch 77/150\n",
      "31/31 [==============================] - 35s 1s/step - loss: 0.0749 - accuracy: 0.9793 - val_loss: 6.1489 - val_accuracy: 0.5714\n",
      "Epoch 78/150\n",
      "31/31 [==============================] - 35s 1s/step - loss: 0.1118 - accuracy: 0.9616 - val_loss: 2.1406 - val_accuracy: 0.5429\n",
      "Epoch 79/150\n",
      "31/31 [==============================] - 35s 1s/step - loss: 0.1613 - accuracy: 0.9525 - val_loss: 6.4300 - val_accuracy: 0.4048\n",
      "Epoch 80/150\n",
      "31/31 [==============================] - 35s 1s/step - loss: 0.1179 - accuracy: 0.9609 - val_loss: 3.6093 - val_accuracy: 0.5619\n",
      "Epoch 81/150\n",
      "31/31 [==============================] - 35s 1s/step - loss: 0.0981 - accuracy: 0.9681 - val_loss: 2.0606 - val_accuracy: 0.5762\n",
      "Epoch 82/150\n",
      "31/31 [==============================] - 35s 1s/step - loss: 0.1516 - accuracy: 0.9555 - val_loss: 4.7901 - val_accuracy: 0.5190\n",
      "Epoch 83/150\n",
      "31/31 [==============================] - 35s 1s/step - loss: 0.1330 - accuracy: 0.9597 - val_loss: 3.2033 - val_accuracy: 0.5000\n",
      "Epoch 84/150\n",
      "31/31 [==============================] - 35s 1s/step - loss: 0.0851 - accuracy: 0.9685 - val_loss: 1.6855 - val_accuracy: 0.6952\n",
      "Epoch 85/150\n",
      "31/31 [==============================] - 35s 1s/step - loss: 0.0641 - accuracy: 0.9823 - val_loss: 1.4159 - val_accuracy: 0.6429\n",
      "Epoch 86/150\n",
      "31/31 [==============================] - 35s 1s/step - loss: 0.0925 - accuracy: 0.9712 - val_loss: 2.6796 - val_accuracy: 0.5524\n",
      "Epoch 87/150\n",
      "31/31 [==============================] - 35s 1s/step - loss: 0.0779 - accuracy: 0.9742 - val_loss: 1.4279 - val_accuracy: 0.5952\n",
      "Epoch 88/150\n",
      "31/31 [==============================] - 35s 1s/step - loss: 0.0721 - accuracy: 0.9741 - val_loss: 3.3459 - val_accuracy: 0.5857\n",
      "Epoch 89/150\n",
      "31/31 [==============================] - 36s 1s/step - loss: 0.0511 - accuracy: 0.9814 - val_loss: 3.4456 - val_accuracy: 0.5762\n",
      "Epoch 90/150\n",
      "31/31 [==============================] - 35s 1s/step - loss: 0.0999 - accuracy: 0.9761 - val_loss: 4.2878 - val_accuracy: 0.5381\n",
      "Epoch 91/150\n",
      "31/31 [==============================] - 35s 1s/step - loss: 0.1039 - accuracy: 0.9722 - val_loss: 4.5251 - val_accuracy: 0.5952\n",
      "Epoch 92/150\n",
      "31/31 [==============================] - 36s 1s/step - loss: 0.0893 - accuracy: 0.9742 - val_loss: 2.4521 - val_accuracy: 0.5238\n",
      "Epoch 93/150\n",
      "31/31 [==============================] - 35s 1s/step - loss: 0.0739 - accuracy: 0.9813 - val_loss: 2.7561 - val_accuracy: 0.5381\n",
      "Epoch 94/150\n",
      "31/31 [==============================] - 36s 1s/step - loss: 0.1146 - accuracy: 0.9702 - val_loss: 5.9069 - val_accuracy: 0.4476\n",
      "Epoch 95/150\n",
      "31/31 [==============================] - 35s 1s/step - loss: 0.1197 - accuracy: 0.9656 - val_loss: 2.0776 - val_accuracy: 0.5810\n",
      "Epoch 96/150\n",
      "31/31 [==============================] - 35s 1s/step - loss: 0.0797 - accuracy: 0.9757 - val_loss: 4.8490 - val_accuracy: 0.5476\n",
      "Epoch 97/150\n",
      "31/31 [==============================] - 35s 1s/step - loss: 0.0713 - accuracy: 0.9798 - val_loss: 4.3684 - val_accuracy: 0.5524\n",
      "Epoch 98/150\n",
      "31/31 [==============================] - 35s 1s/step - loss: 0.1032 - accuracy: 0.9732 - val_loss: 4.0259 - val_accuracy: 0.5905\n",
      "Epoch 99/150\n",
      "31/31 [==============================] - 36s 1s/step - loss: 0.0821 - accuracy: 0.9756 - val_loss: 1.7544 - val_accuracy: 0.5810\n",
      "Epoch 100/150\n",
      "31/31 [==============================] - 35s 1s/step - loss: 0.1139 - accuracy: 0.9702 - val_loss: 2.3800 - val_accuracy: 0.6095\n",
      "Epoch 101/150\n",
      "31/31 [==============================] - 36s 1s/step - loss: 0.0624 - accuracy: 0.9772 - val_loss: 4.6759 - val_accuracy: 0.5810\n",
      "Epoch 102/150\n",
      "31/31 [==============================] - 35s 1s/step - loss: 0.0791 - accuracy: 0.9732 - val_loss: 1.2305 - val_accuracy: 0.6048\n",
      "Epoch 103/150\n",
      "31/31 [==============================] - 36s 1s/step - loss: 0.0500 - accuracy: 0.9813 - val_loss: 2.7433 - val_accuracy: 0.6381\n",
      "Epoch 104/150\n",
      "31/31 [==============================] - 36s 1s/step - loss: 0.1134 - accuracy: 0.9732 - val_loss: 2.8700 - val_accuracy: 0.5857\n",
      "Epoch 105/150\n",
      "31/31 [==============================] - 35s 1s/step - loss: 0.1116 - accuracy: 0.9661 - val_loss: 2.4789 - val_accuracy: 0.5571\n",
      "Epoch 106/150\n",
      "31/31 [==============================] - 36s 1s/step - loss: 0.1058 - accuracy: 0.9742 - val_loss: 4.7704 - val_accuracy: 0.5095\n",
      "Epoch 107/150\n",
      "31/31 [==============================] - 36s 1s/step - loss: 0.1124 - accuracy: 0.9717 - val_loss: 4.8549 - val_accuracy: 0.6143\n",
      "Epoch 108/150\n",
      "31/31 [==============================] - 35s 1s/step - loss: 0.1201 - accuracy: 0.9624 - val_loss: 1.6473 - val_accuracy: 0.6667\n",
      "Epoch 109/150\n",
      "31/31 [==============================] - 36s 1s/step - loss: 0.1625 - accuracy: 0.9516 - val_loss: 6.4973 - val_accuracy: 0.5238\n",
      "Epoch 110/150\n",
      "31/31 [==============================] - 36s 1s/step - loss: 0.1432 - accuracy: 0.9604 - val_loss: 3.2340 - val_accuracy: 0.4381\n",
      "Epoch 111/150\n",
      "31/31 [==============================] - 35s 1s/step - loss: 0.0929 - accuracy: 0.9747 - val_loss: 1.9394 - val_accuracy: 0.5762\n",
      "Epoch 112/150\n",
      "31/31 [==============================] - 36s 1s/step - loss: 0.0684 - accuracy: 0.9777 - val_loss: 3.3122 - val_accuracy: 0.6429\n",
      "Epoch 113/150\n",
      "31/31 [==============================] - 36s 1s/step - loss: 0.0633 - accuracy: 0.9818 - val_loss: 3.1168 - val_accuracy: 0.6619\n",
      "Epoch 114/150\n",
      "31/31 [==============================] - 36s 1s/step - loss: 0.0445 - accuracy: 0.9853 - val_loss: 1.7938 - val_accuracy: 0.6524\n",
      "Epoch 115/150\n",
      "31/31 [==============================] - 35s 1s/step - loss: 0.0390 - accuracy: 0.9884 - val_loss: 4.4156 - val_accuracy: 0.6143\n",
      "Epoch 116/150\n",
      "31/31 [==============================] - 36s 1s/step - loss: 0.0345 - accuracy: 0.9909 - val_loss: 4.5030 - val_accuracy: 0.6238\n",
      "Epoch 117/150\n",
      "31/31 [==============================] - 35s 1s/step - loss: 0.0435 - accuracy: 0.9874 - val_loss: 1.6454 - val_accuracy: 0.6095\n",
      "Epoch 118/150\n",
      "31/31 [==============================] - 36s 1s/step - loss: 0.0533 - accuracy: 0.9853 - val_loss: 3.2402 - val_accuracy: 0.6000\n",
      "Epoch 119/150\n",
      "31/31 [==============================] - 35s 1s/step - loss: 0.0610 - accuracy: 0.9823 - val_loss: 1.2208 - val_accuracy: 0.6667\n",
      "Epoch 120/150\n",
      "31/31 [==============================] - 35s 1s/step - loss: 0.0587 - accuracy: 0.9853 - val_loss: 2.0321 - val_accuracy: 0.5667\n",
      "Epoch 121/150\n",
      "31/31 [==============================] - 35s 1s/step - loss: 0.0474 - accuracy: 0.9879 - val_loss: 4.0092 - val_accuracy: 0.6143\n",
      "Epoch 122/150\n",
      "31/31 [==============================] - 37s 1s/step - loss: 0.0450 - accuracy: 0.9863 - val_loss: 3.0562 - val_accuracy: 0.6238\n",
      "Epoch 123/150\n",
      "31/31 [==============================] - 36s 1s/step - loss: 0.0446 - accuracy: 0.9874 - val_loss: 4.7725 - val_accuracy: 0.6476\n",
      "Epoch 124/150\n",
      "31/31 [==============================] - 36s 1s/step - loss: 0.1052 - accuracy: 0.9737 - val_loss: 4.0630 - val_accuracy: 0.5714\n",
      "Epoch 125/150\n",
      "31/31 [==============================] - 36s 1s/step - loss: 0.0881 - accuracy: 0.9793 - val_loss: 3.1610 - val_accuracy: 0.6286\n",
      "Epoch 126/150\n",
      "31/31 [==============================] - 36s 1s/step - loss: 0.0529 - accuracy: 0.9812 - val_loss: 1.2067 - val_accuracy: 0.6524\n",
      "Epoch 127/150\n",
      "31/31 [==============================] - 36s 1s/step - loss: 0.0238 - accuracy: 0.9914 - val_loss: 0.6564 - val_accuracy: 0.6714\n",
      "Epoch 128/150\n",
      "31/31 [==============================] - 36s 1s/step - loss: 0.0718 - accuracy: 0.9818 - val_loss: 4.4987 - val_accuracy: 0.4810\n",
      "Epoch 129/150\n",
      "31/31 [==============================] - 36s 1s/step - loss: 0.1254 - accuracy: 0.9675 - val_loss: 4.0380 - val_accuracy: 0.5810\n",
      "Epoch 130/150\n",
      "31/31 [==============================] - 35s 1s/step - loss: 0.0986 - accuracy: 0.9717 - val_loss: 4.0945 - val_accuracy: 0.6810\n",
      "Epoch 131/150\n",
      "31/31 [==============================] - 36s 1s/step - loss: 0.0641 - accuracy: 0.9782 - val_loss: 3.2514 - val_accuracy: 0.6143\n",
      "Epoch 132/150\n",
      "31/31 [==============================] - 35s 1s/step - loss: 0.0771 - accuracy: 0.9803 - val_loss: 2.5513 - val_accuracy: 0.4952\n",
      "Epoch 133/150\n",
      "31/31 [==============================] - 36s 1s/step - loss: 0.0957 - accuracy: 0.9712 - val_loss: 2.1671 - val_accuracy: 0.6143\n",
      "Epoch 134/150\n",
      "31/31 [==============================] - 35s 1s/step - loss: 0.1218 - accuracy: 0.9722 - val_loss: 1.9289 - val_accuracy: 0.6714\n",
      "Epoch 135/150\n",
      "31/31 [==============================] - 36s 1s/step - loss: 0.0643 - accuracy: 0.9782 - val_loss: 1.5413 - val_accuracy: 0.6000\n",
      "Epoch 136/150\n",
      "31/31 [==============================] - 36s 1s/step - loss: 0.0523 - accuracy: 0.9823 - val_loss: 0.4636 - val_accuracy: 0.6810\n",
      "Epoch 137/150\n",
      "31/31 [==============================] - 36s 1s/step - loss: 0.0595 - accuracy: 0.9807 - val_loss: 1.9962 - val_accuracy: 0.6048\n",
      "Epoch 138/150\n",
      "31/31 [==============================] - 36s 1s/step - loss: 0.0525 - accuracy: 0.9874 - val_loss: 1.7295 - val_accuracy: 0.6476\n",
      "Epoch 139/150\n",
      "31/31 [==============================] - 36s 1s/step - loss: 0.0344 - accuracy: 0.9899 - val_loss: 4.1430 - val_accuracy: 0.6905\n",
      "Epoch 140/150\n",
      "31/31 [==============================] - 36s 1s/step - loss: 0.0584 - accuracy: 0.9838 - val_loss: 1.8933 - val_accuracy: 0.6952\n",
      "Epoch 141/150\n",
      "31/31 [==============================] - 35s 1s/step - loss: 0.0523 - accuracy: 0.9828 - val_loss: 1.8250 - val_accuracy: 0.6571\n",
      "Epoch 142/150\n",
      "31/31 [==============================] - 36s 1s/step - loss: 0.0971 - accuracy: 0.9777 - val_loss: 2.3805 - val_accuracy: 0.5905\n",
      "Epoch 143/150\n",
      "31/31 [==============================] - 36s 1s/step - loss: 0.0709 - accuracy: 0.9793 - val_loss: 4.7112 - val_accuracy: 0.5905\n",
      "Epoch 144/150\n",
      "31/31 [==============================] - 36s 1s/step - loss: 0.0498 - accuracy: 0.9863 - val_loss: 2.3572 - val_accuracy: 0.5095\n",
      "Epoch 145/150\n",
      "31/31 [==============================] - 36s 1s/step - loss: 0.0446 - accuracy: 0.9879 - val_loss: 3.1116 - val_accuracy: 0.6524\n",
      "Epoch 146/150\n",
      "31/31 [==============================] - 35s 1s/step - loss: 0.0301 - accuracy: 0.9893 - val_loss: 1.9848 - val_accuracy: 0.7190\n",
      "Epoch 147/150\n",
      "31/31 [==============================] - 36s 1s/step - loss: 0.0406 - accuracy: 0.9874 - val_loss: 1.4766 - val_accuracy: 0.6476\n",
      "Epoch 148/150\n",
      "31/31 [==============================] - 35s 1s/step - loss: 0.0462 - accuracy: 0.9858 - val_loss: 2.6351 - val_accuracy: 0.7190\n",
      "Epoch 149/150\n",
      "31/31 [==============================] - 35s 1s/step - loss: 0.0531 - accuracy: 0.9858 - val_loss: 8.1247 - val_accuracy: 0.5714\n",
      "Epoch 150/150\n",
      "31/31 [==============================] - 37s 1s/step - loss: 0.0717 - accuracy: 0.9848 - val_loss: 3.3090 - val_accuracy: 0.5429\n"
     ]
    }
   ],
   "source": [
    "model_fit_history = model.fit_generator(train_image_generator,\n",
    "        steps_per_epoch=2000 // batch_size,\n",
    "        epochs=150,\n",
    "        validation_data=validation_image_generator,\n",
    "        validation_steps=800 // batch_size)"
   ]
  },
  {
   "cell_type": "code",
   "execution_count": 0,
   "metadata": {
    "colab": {
     "base_uri": "https://localhost:8080/",
     "height": 376
    },
    "colab_type": "code",
    "collapsed": false,
    "deletable": true,
    "editable": true,
    "id": "8cOnlc5qPWXi",
    "outputId": "709486e8-1911-418f-e98e-70145bc119ee"
   },
   "outputs": [
    {
     "data": {
      "image/png": "[encoded data removed]",
      "text/plain": [
       "<Figure size 576x396 with 1 Axes>"
      ]
     },
     "metadata": {
      "tags": []
     },
     "output_type": "display_data"
    }
   ],
   "source": [
    "matplotlib.style.use('seaborn')\n",
    "epochs = len(model_fit_history.history['loss'])\n",
    "max_loss = max(max(model_fit_history.history['loss']), max(model_fit_history.history['val_loss']))\n",
    "plt.axis([0, epochs+1, 0, round(max_loss * 2.0) / 2 + 0.5])\n",
    "x = np.arange(1, epochs+1)\n",
    "plt.plot(x, model_fit_history.history['loss'])\n",
    "plt.plot(x, model_fit_history.history['val_loss'])\n",
    "plt.title('Training loss vs. Validation loss')\n",
    "plt.ylabel('Loss')\n",
    "plt.xlabel('Epoch')\n",
    "plt.legend(['Training', 'Validation'], loc='right')\n",
    "plt.show()"
   ]
  },
  {
   "cell_type": "code",
   "execution_count": 0,
   "metadata": {
    "colab": {
     "base_uri": "https://localhost:8080/",
     "height": 376
    },
    "colab_type": "code",
    "collapsed": false,
    "deletable": true,
    "editable": true,
    "id": "wM3or4liPXLf",
    "outputId": "64c0ac21-f1f4-4927-ba80-2ba5185652c2"
   },
   "outputs": [
    {
     "data": {
      "image/png": "[encoded data removed]",
      "text/plain": [
       "<Figure size 576x396 with 1 Axes>"
      ]
     },
     "metadata": {
      "tags": []
     },
     "output_type": "display_data"
    }
   ],
   "source": [
    "matplotlib.style.use('seaborn')\n",
    "epochs = len(model_fit_history.history['accuracy'])\n",
    "plt.axis([0, epochs+1, 0, 1.2])\n",
    "x = np.arange(1, epochs+1)\n",
    "plt.plot(x, model_fit_history.history['accuracy'])\n",
    "plt.plot(x, model_fit_history.history['val_accuracy'])\n",
    "plt.title('Training accuracy vs. Validation accuracy')\n",
    "plt.ylabel('Accuracy')\n",
    "plt.xlabel('Epoch')\n",
    "plt.legend(['Training', 'Validation'], loc='right')\n",
    "plt.show()"
   ]
  },
  {
   "cell_type": "code",
   "execution_count": 0,
   "metadata": {
    "colab": {},
    "colab_type": "code",
    "collapsed": true,
    "deletable": true,
    "editable": true,
    "id": "0QSnJKa_PbHn"
   },
   "outputs": [],
   "source": [
    "y_pred = model.predict_classes(X['Test'], verbose=0)"
   ]
  },
  {
   "cell_type": "code",
   "execution_count": 0,
   "metadata": {
    "colab": {
     "base_uri": "https://localhost:8080/",
     "height": 580
    },
    "colab_type": "code",
    "collapsed": false,
    "deletable": true,
    "editable": true,
    "id": "VvGLMHJYPgLe",
    "outputId": "dcd607a6-6315-4f94-b17f-6574ee18f434"
   },
   "outputs": [
    {
     "name": "stdout",
     "output_type": "stream",
     "text": [
      "Model predication accuracy: 0.562\n",
      "\n",
      "Classification report:\n",
      "               precision    recall  f1-score   support\n",
      "\n",
      "           0       0.77      1.00      0.87        10\n",
      "           1       1.00      0.20      0.33        10\n",
      "           2       0.37      0.70      0.48        10\n",
      "           3       1.00      0.30      0.46        10\n",
      "           4       1.00      0.40      0.57        10\n",
      "           5       0.83      1.00      0.91        10\n",
      "           6       0.50      0.10      0.17        10\n",
      "           7       0.91      1.00      0.95        10\n",
      "           8       0.42      0.50      0.45        10\n",
      "           9       0.18      0.40      0.25        10\n",
      "          10       1.00      0.10      0.18        10\n",
      "          11       1.00      0.80      0.89        10\n",
      "          12       0.29      0.60      0.39        10\n",
      "          13       0.60      0.30      0.40        10\n",
      "          14       0.75      0.90      0.82        10\n",
      "          15       1.00      0.90      0.95        10\n",
      "          16       0.90      0.90      0.90        10\n",
      "          17       0.30      0.60      0.40        10\n",
      "          18       0.43      0.30      0.35        10\n",
      "          19       0.00      0.00      0.00        10\n",
      "          20       0.57      0.80      0.67        10\n",
      "\n",
      "    accuracy                           0.56       210\n",
      "   macro avg       0.66      0.56      0.54       210\n",
      "weighted avg       0.66      0.56      0.54       210\n",
      "\n"
     ]
    }
   ],
   "source": [
    "y_test = np.nonzero(Y['Test'])[1]\n",
    "accuracy = accuracy_score(y_test, y_pred)\n",
    "print(f'Model predication accuracy: {accuracy:.3f}')\n",
    "print(f'\\nClassification report:\\n {classification_report(y_test, y_pred)}')"
   ]
  },
  {
   "cell_type": "code",
   "execution_count": 0,
   "metadata": {
    "colab": {},
    "colab_type": "code",
    "collapsed": true,
    "deletable": true,
    "editable": true,
    "id": "YoI4QCPNVkzF"
   },
   "outputs": [],
   "source": []
  }
 ],
 "metadata": {
  "accelerator": "GPU",
  "colab": {
   "collapsed_sections": [],
   "name": "VGGScratch.ipynb",
   "provenance": []
  },
  "kernelspec": {
   "display_name": "Python 3",
   "language": "python",
   "name": "python3"
  },
  "language_info": {
   "codemirror_mode": {
    "name": "ipython",
    "version": 3
   },
   "file_extension": ".py",
   "mimetype": "text/x-python",
   "name": "python",
   "nbconvert_exporter": "python",
   "pygments_lexer": "ipython3",
   "version": "3.5.2"
  }
 },
 "nbformat": 4,
 "nbformat_minor": 0
}
